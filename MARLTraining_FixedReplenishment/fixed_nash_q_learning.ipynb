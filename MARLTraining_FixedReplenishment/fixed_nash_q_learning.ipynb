{
 "cells": [
  {
   "cell_type": "code",
   "execution_count": 3,
   "metadata": {},
   "outputs": [],
   "source": [
    "import pandas as pd\n",
    "from environment import CompetitivePerishableInventoryPlanning\n",
    "from nash_q_learning import nash_q_learning\n",
    "from utils import combinations, interpolate\n",
    "import numpy as np\n",
    "import nashpy as nash\n",
    "import pickle\n",
    "\n",
    "# State index generation\n",
    "m = 2 # product life\n",
    "max_x = 5  # maximum order quantity\n",
    "states = []\n",
    "for comb1 in combinations(m, max_x):\n",
    "    for comb2 in combinations(m, max_x):\n",
    "        states.append((comb1, comb2))\n",
    "\n",
    "# Assign unique identifier to all states\n",
    "state_index = pd.DataFrame(pd.Series(tuple(states)), columns=[\"state\"])\n",
    "state_index[\"inventory_level\"] = state_index[\"state\"].apply(lambda x: (sum(x[0]), sum(x[1])))"
   ]
  },
  {
   "cell_type": "code",
   "execution_count": 2,
   "metadata": {},
   "outputs": [],
   "source": [
    "initial_state = [0, 0]\n",
    "env = CompetitivePerishableInventoryPlanning(maximum_order_quantity= max_x, planning_horizon = 6, \n",
    "                                             product_life=m , initial_state=(initial_state, initial_state))"
   ]
  },
  {
   "cell_type": "code",
   "execution_count": 4,
   "metadata": {
    "scrolled": true
   },
   "outputs": [
    {
     "name": "stdout",
     "output_type": "stream",
     "text": [
      "0.5\n"
     ]
    },
    {
     "name": "stderr",
     "output_type": "stream",
     "text": [
      "  3%|▎         | 5001/150000 [36:56<4:55:48,  8.17it/s] "
     ]
    },
    {
     "name": "stdout",
     "output_type": "stream",
     "text": [
      "Agents saved at epoch 5000: FixedTrainedAgents_05Greedy_010825M2T6\\Q1_new_max_5K_X5.pkl, FixedTrainedAgents_05Greedy_010825M2T6\\Q2_new_max_5K_X5.pkl\n"
     ]
    },
    {
     "name": "stderr",
     "output_type": "stream",
     "text": [
      "  7%|▋         | 10001/150000 [57:21<4:59:44,  7.78it/s] "
     ]
    },
    {
     "name": "stdout",
     "output_type": "stream",
     "text": [
      "Agents saved at epoch 10000: FixedTrainedAgents_05Greedy_010825M2T6\\Q1_new_max_10K_X5.pkl, FixedTrainedAgents_05Greedy_010825M2T6\\Q2_new_max_10K_X5.pkl\n"
     ]
    },
    {
     "name": "stderr",
     "output_type": "stream",
     "text": [
      " 10%|█         | 15001/150000 [1:09:12<5:05:21,  7.37it/s] "
     ]
    },
    {
     "name": "stdout",
     "output_type": "stream",
     "text": [
      "Agents saved at epoch 15000: FixedTrainedAgents_05Greedy_010825M2T6\\Q1_new_max_15K_X5.pkl, FixedTrainedAgents_05Greedy_010825M2T6\\Q2_new_max_15K_X5.pkl\n"
     ]
    },
    {
     "name": "stderr",
     "output_type": "stream",
     "text": [
      " 13%|█▎        | 20002/150000 [1:19:30<2:58:00, 12.17it/s] "
     ]
    },
    {
     "name": "stdout",
     "output_type": "stream",
     "text": [
      "Agents saved at epoch 20000: FixedTrainedAgents_05Greedy_010825M2T6\\Q1_new_max_20K_X5.pkl, FixedTrainedAgents_05Greedy_010825M2T6\\Q2_new_max_20K_X5.pkl\n"
     ]
    },
    {
     "name": "stderr",
     "output_type": "stream",
     "text": [
      " 17%|█▋        | 25001/150000 [1:27:59<5:41:14,  6.11it/s]"
     ]
    },
    {
     "name": "stdout",
     "output_type": "stream",
     "text": [
      "Agents saved at epoch 25000: FixedTrainedAgents_05Greedy_010825M2T6\\Q1_new_max_25K_X5.pkl, FixedTrainedAgents_05Greedy_010825M2T6\\Q2_new_max_25K_X5.pkl\n"
     ]
    },
    {
     "name": "stderr",
     "output_type": "stream",
     "text": [
      " 20%|██        | 30001/150000 [1:39:54<4:26:19,  7.51it/s] "
     ]
    },
    {
     "name": "stdout",
     "output_type": "stream",
     "text": [
      "Agents saved at epoch 30000: FixedTrainedAgents_05Greedy_010825M2T6\\Q1_new_max_30K_X5.pkl, FixedTrainedAgents_05Greedy_010825M2T6\\Q2_new_max_30K_X5.pkl\n"
     ]
    },
    {
     "name": "stderr",
     "output_type": "stream",
     "text": [
      " 23%|██▎       | 35000/150000 [1:51:21<8:38:45,  3.69it/s] "
     ]
    },
    {
     "name": "stdout",
     "output_type": "stream",
     "text": [
      "Agents saved at epoch 35000: FixedTrainedAgents_05Greedy_010825M2T6\\Q1_new_max_35K_X5.pkl, FixedTrainedAgents_05Greedy_010825M2T6\\Q2_new_max_35K_X5.pkl\n"
     ]
    },
    {
     "name": "stderr",
     "output_type": "stream",
     "text": [
      " 27%|██▋       | 40002/150000 [2:34:04<2:30:09, 12.21it/s]     "
     ]
    },
    {
     "name": "stdout",
     "output_type": "stream",
     "text": [
      "Agents saved at epoch 40000: FixedTrainedAgents_05Greedy_010825M2T6\\Q1_new_max_40K_X5.pkl, FixedTrainedAgents_05Greedy_010825M2T6\\Q2_new_max_40K_X5.pkl\n"
     ]
    },
    {
     "name": "stderr",
     "output_type": "stream",
     "text": [
      " 30%|███       | 45000/150000 [2:50:47<8:31:45,  3.42it/s] "
     ]
    },
    {
     "name": "stdout",
     "output_type": "stream",
     "text": [
      "Agents saved at epoch 45000: FixedTrainedAgents_05Greedy_010825M2T6\\Q1_new_max_45K_X5.pkl, FixedTrainedAgents_05Greedy_010825M2T6\\Q2_new_max_45K_X5.pkl\n"
     ]
    },
    {
     "name": "stderr",
     "output_type": "stream",
     "text": [
      " 33%|███▎      | 50000/150000 [3:15:42<9:13:16,  3.01it/s] "
     ]
    },
    {
     "name": "stdout",
     "output_type": "stream",
     "text": [
      "Agents saved at epoch 50000: FixedTrainedAgents_05Greedy_010825M2T6\\Q1_new_max_50K_X5.pkl, FixedTrainedAgents_05Greedy_010825M2T6\\Q2_new_max_50K_X5.pkl\n"
     ]
    },
    {
     "name": "stderr",
     "output_type": "stream",
     "text": [
      " 37%|███▋      | 55000/150000 [3:45:38<10:18:56,  2.56it/s]"
     ]
    },
    {
     "name": "stdout",
     "output_type": "stream",
     "text": [
      "Agents saved at epoch 55000: FixedTrainedAgents_05Greedy_010825M2T6\\Q1_new_max_55K_X5.pkl, FixedTrainedAgents_05Greedy_010825M2T6\\Q2_new_max_55K_X5.pkl\n"
     ]
    },
    {
     "name": "stderr",
     "output_type": "stream",
     "text": [
      " 40%|████      | 60000/150000 [4:15:25<8:49:06,  2.83it/s] "
     ]
    },
    {
     "name": "stdout",
     "output_type": "stream",
     "text": [
      "Agents saved at epoch 60000: FixedTrainedAgents_05Greedy_010825M2T6\\Q1_new_max_60K_X5.pkl, FixedTrainedAgents_05Greedy_010825M2T6\\Q2_new_max_60K_X5.pkl\n"
     ]
    },
    {
     "name": "stderr",
     "output_type": "stream",
     "text": [
      " 43%|████▎     | 65001/150000 [4:35:37<1:48:13, 13.09it/s] "
     ]
    },
    {
     "name": "stdout",
     "output_type": "stream",
     "text": [
      "Agents saved at epoch 65000: FixedTrainedAgents_05Greedy_010825M2T6\\Q1_new_max_65K_X5.pkl, FixedTrainedAgents_05Greedy_010825M2T6\\Q2_new_max_65K_X5.pkl\n"
     ]
    },
    {
     "name": "stderr",
     "output_type": "stream",
     "text": [
      " 47%|████▋     | 70001/150000 [4:42:13<1:57:33, 11.34it/s]"
     ]
    },
    {
     "name": "stdout",
     "output_type": "stream",
     "text": [
      "Agents saved at epoch 70000: FixedTrainedAgents_05Greedy_010825M2T6\\Q1_new_max_70K_X5.pkl, FixedTrainedAgents_05Greedy_010825M2T6\\Q2_new_max_70K_X5.pkl\n"
     ]
    },
    {
     "name": "stderr",
     "output_type": "stream",
     "text": [
      " 50%|█████     | 75001/150000 [4:49:34<1:55:51, 10.79it/s]"
     ]
    },
    {
     "name": "stdout",
     "output_type": "stream",
     "text": [
      "Agents saved at epoch 75000: FixedTrainedAgents_05Greedy_010825M2T6\\Q1_new_max_75K_X5.pkl, FixedTrainedAgents_05Greedy_010825M2T6\\Q2_new_max_75K_X5.pkl\n"
     ]
    },
    {
     "name": "stderr",
     "output_type": "stream",
     "text": [
      " 53%|█████▎    | 80001/150000 [4:56:56<1:41:16, 11.52it/s]"
     ]
    },
    {
     "name": "stdout",
     "output_type": "stream",
     "text": [
      "Agents saved at epoch 80000: FixedTrainedAgents_05Greedy_010825M2T6\\Q1_new_max_80K_X5.pkl, FixedTrainedAgents_05Greedy_010825M2T6\\Q2_new_max_80K_X5.pkl\n"
     ]
    },
    {
     "name": "stderr",
     "output_type": "stream",
     "text": [
      " 57%|█████▋    | 85001/150000 [5:04:12<1:54:22,  9.47it/s]"
     ]
    },
    {
     "name": "stdout",
     "output_type": "stream",
     "text": [
      "Agents saved at epoch 85000: FixedTrainedAgents_05Greedy_010825M2T6\\Q1_new_max_85K_X5.pkl, FixedTrainedAgents_05Greedy_010825M2T6\\Q2_new_max_85K_X5.pkl\n"
     ]
    },
    {
     "name": "stderr",
     "output_type": "stream",
     "text": [
      " 60%|██████    | 90001/150000 [5:11:36<1:27:48, 11.39it/s]"
     ]
    },
    {
     "name": "stdout",
     "output_type": "stream",
     "text": [
      "Agents saved at epoch 90000: FixedTrainedAgents_05Greedy_010825M2T6\\Q1_new_max_90K_X5.pkl, FixedTrainedAgents_05Greedy_010825M2T6\\Q2_new_max_90K_X5.pkl\n"
     ]
    },
    {
     "name": "stderr",
     "output_type": "stream",
     "text": [
      " 63%|██████▎   | 95001/150000 [5:18:59<1:25:43, 10.69it/s]"
     ]
    },
    {
     "name": "stdout",
     "output_type": "stream",
     "text": [
      "Agents saved at epoch 95000: FixedTrainedAgents_05Greedy_010825M2T6\\Q1_new_max_95K_X5.pkl, FixedTrainedAgents_05Greedy_010825M2T6\\Q2_new_max_95K_X5.pkl\n"
     ]
    },
    {
     "name": "stderr",
     "output_type": "stream",
     "text": [
      " 67%|██████▋   | 100002/150000 [5:26:20<1:07:50, 12.28it/s]"
     ]
    },
    {
     "name": "stdout",
     "output_type": "stream",
     "text": [
      "Agents saved at epoch 100000: FixedTrainedAgents_05Greedy_010825M2T6\\Q1_new_max_100K_X5.pkl, FixedTrainedAgents_05Greedy_010825M2T6\\Q2_new_max_100K_X5.pkl\n"
     ]
    },
    {
     "name": "stderr",
     "output_type": "stream",
     "text": [
      " 70%|███████   | 105000/150000 [5:39:44<4:31:33,  2.76it/s]"
     ]
    },
    {
     "name": "stdout",
     "output_type": "stream",
     "text": [
      "Agents saved at epoch 105000: FixedTrainedAgents_05Greedy_010825M2T6\\Q1_new_max_105K_X5.pkl, FixedTrainedAgents_05Greedy_010825M2T6\\Q2_new_max_105K_X5.pkl\n"
     ]
    },
    {
     "name": "stderr",
     "output_type": "stream",
     "text": [
      " 73%|███████▎  | 110000/150000 [6:09:42<3:50:11,  2.90it/s]"
     ]
    },
    {
     "name": "stdout",
     "output_type": "stream",
     "text": [
      "Agents saved at epoch 110000: FixedTrainedAgents_05Greedy_010825M2T6\\Q1_new_max_110K_X5.pkl, FixedTrainedAgents_05Greedy_010825M2T6\\Q2_new_max_110K_X5.pkl\n"
     ]
    },
    {
     "name": "stderr",
     "output_type": "stream",
     "text": [
      " 77%|███████▋  | 115001/150000 [6:25:26<49:14, 11.84it/s]  "
     ]
    },
    {
     "name": "stdout",
     "output_type": "stream",
     "text": [
      "Agents saved at epoch 115000: FixedTrainedAgents_05Greedy_010825M2T6\\Q1_new_max_115K_X5.pkl, FixedTrainedAgents_05Greedy_010825M2T6\\Q2_new_max_115K_X5.pkl\n"
     ]
    },
    {
     "name": "stderr",
     "output_type": "stream",
     "text": [
      " 80%|████████  | 120001/150000 [6:32:35<41:01, 12.19it/s]  "
     ]
    },
    {
     "name": "stdout",
     "output_type": "stream",
     "text": [
      "Agents saved at epoch 120000: FixedTrainedAgents_05Greedy_010825M2T6\\Q1_new_max_120K_X5.pkl, FixedTrainedAgents_05Greedy_010825M2T6\\Q2_new_max_120K_X5.pkl\n"
     ]
    },
    {
     "name": "stderr",
     "output_type": "stream",
     "text": [
      " 83%|████████▎ | 125000/150000 [6:52:52<2:28:52,  2.80it/s]"
     ]
    },
    {
     "name": "stdout",
     "output_type": "stream",
     "text": [
      "Agents saved at epoch 125000: FixedTrainedAgents_05Greedy_010825M2T6\\Q1_new_max_125K_X5.pkl, FixedTrainedAgents_05Greedy_010825M2T6\\Q2_new_max_125K_X5.pkl\n"
     ]
    },
    {
     "name": "stderr",
     "output_type": "stream",
     "text": [
      " 87%|████████▋ | 130000/150000 [7:23:44<1:59:26,  2.79it/s]"
     ]
    },
    {
     "name": "stdout",
     "output_type": "stream",
     "text": [
      "Agents saved at epoch 130000: FixedTrainedAgents_05Greedy_010825M2T6\\Q1_new_max_130K_X5.pkl, FixedTrainedAgents_05Greedy_010825M2T6\\Q2_new_max_130K_X5.pkl\n"
     ]
    },
    {
     "name": "stderr",
     "output_type": "stream",
     "text": [
      " 90%|█████████ | 135000/150000 [7:54:13<1:31:18,  2.74it/s]"
     ]
    },
    {
     "name": "stdout",
     "output_type": "stream",
     "text": [
      "Agents saved at epoch 135000: FixedTrainedAgents_05Greedy_010825M2T6\\Q1_new_max_135K_X5.pkl, FixedTrainedAgents_05Greedy_010825M2T6\\Q2_new_max_135K_X5.pkl\n"
     ]
    },
    {
     "name": "stderr",
     "output_type": "stream",
     "text": [
      " 93%|█████████▎| 140000/150000 [8:25:03<1:06:33,  2.50it/s]"
     ]
    },
    {
     "name": "stdout",
     "output_type": "stream",
     "text": [
      "Agents saved at epoch 140000: FixedTrainedAgents_05Greedy_010825M2T6\\Q1_new_max_140K_X5.pkl, FixedTrainedAgents_05Greedy_010825M2T6\\Q2_new_max_140K_X5.pkl\n"
     ]
    },
    {
     "name": "stderr",
     "output_type": "stream",
     "text": [
      " 97%|█████████▋| 145000/150000 [8:56:01<29:43,  2.80it/s]  "
     ]
    },
    {
     "name": "stdout",
     "output_type": "stream",
     "text": [
      "Agents saved at epoch 145000: FixedTrainedAgents_05Greedy_010825M2T6\\Q1_new_max_145K_X5.pkl, FixedTrainedAgents_05Greedy_010825M2T6\\Q2_new_max_145K_X5.pkl\n"
     ]
    },
    {
     "name": "stderr",
     "output_type": "stream",
     "text": [
      "100%|██████████| 150000/150000 [9:26:47<00:00,  4.41it/s]"
     ]
    },
    {
     "name": "stdout",
     "output_type": "stream",
     "text": [
      "Agents saved at epoch 150000: FixedTrainedAgents_05Greedy_010825M2T6\\Q1_new_max_150K_X5.pkl, FixedTrainedAgents_05Greedy_010825M2T6\\Q2_new_max_150K_X5.pkl\n",
      "9:26:47.314533\n"
     ]
    },
    {
     "name": "stderr",
     "output_type": "stream",
     "text": [
      "\n"
     ]
    }
   ],
   "source": [
    "import warnings\n",
    "warnings.filterwarnings('ignore')\n",
    "# Run Nash Q-learning\n",
    "initial_alpha = 0.5\n",
    "Q1, Q2, t_info, winner_df = nash_q_learning(env, state_index, initial_alpha=initial_alpha, N=150000)"
   ]
  },
  {
   "cell_type": "markdown",
   "metadata": {},
   "source": [
    "### Saving Training Results"
   ]
  },
  {
   "cell_type": "code",
   "execution_count": 4,
   "metadata": {},
   "outputs": [],
   "source": [
    "path = '/Users/anilturgut/Desktop/CompetitiveFixedNQL/FixedTrainedAgents081224M2T6'"
   ]
  },
  {
   "cell_type": "code",
   "execution_count": 5,
   "metadata": {},
   "outputs": [],
   "source": [
    "winner_df.to_excel(path + \"/winner_result.xlsx\")"
   ]
  },
  {
   "cell_type": "code",
   "execution_count": null,
   "metadata": {
    "collapsed": true
   },
   "outputs": [
    {
     "ename": "KeyboardInterrupt",
     "evalue": "",
     "output_type": "error",
     "traceback": [
      "\u001b[0;31m---------------------------------------------------------------------------\u001b[0m",
      "\u001b[0;31mKeyboardInterrupt\u001b[0m                         Traceback (most recent call last)",
      "    \u001b[0;31m[... skipping hidden 1 frame]\u001b[0m\n",
      "Cell \u001b[0;32mIn[37], line 3\u001b[0m\n\u001b[1;32m      2\u001b[0m \u001b[38;5;28;01mwith\u001b[39;00m \u001b[38;5;28mopen\u001b[39m(path \u001b[38;5;241m+\u001b[39m \u001b[38;5;124m\"\u001b[39m\u001b[38;5;124m/training_info.pkl\u001b[39m\u001b[38;5;124m\"\u001b[39m, \u001b[38;5;124m'\u001b[39m\u001b[38;5;124mwb\u001b[39m\u001b[38;5;124m'\u001b[39m) \u001b[38;5;28;01mas\u001b[39;00m file:\n\u001b[0;32m----> 3\u001b[0m     pickle\u001b[38;5;241m.\u001b[39mdump(t_info, file)\n",
      "\u001b[0;31mKeyboardInterrupt\u001b[0m: ",
      "\nDuring handling of the above exception, another exception occurred:\n",
      "\u001b[0;31mKeyboardInterrupt\u001b[0m                         Traceback (most recent call last)",
      "File \u001b[0;32m~/anaconda3/lib/python3.11/site-packages/IPython/core/interactiveshell.py:3547\u001b[0m, in \u001b[0;36mInteractiveShell.run_code\u001b[0;34m(self, code_obj, result, async_)\u001b[0m\n\u001b[1;32m   3545\u001b[0m \u001b[38;5;28;01mexcept\u001b[39;00m:\n\u001b[1;32m   3546\u001b[0m     \u001b[38;5;28;01mif\u001b[39;00m result \u001b[38;5;129;01mis\u001b[39;00m \u001b[38;5;129;01mnot\u001b[39;00m \u001b[38;5;28;01mNone\u001b[39;00m:\n\u001b[0;32m-> 3547\u001b[0m         result\u001b[38;5;241m.\u001b[39merror_in_exec \u001b[38;5;241m=\u001b[39m sys\u001b[38;5;241m.\u001b[39mexc_info()[\u001b[38;5;241m1\u001b[39m]\n\u001b[1;32m   3548\u001b[0m     \u001b[38;5;28mself\u001b[39m\u001b[38;5;241m.\u001b[39mshowtraceback(running_compiled_code\u001b[38;5;241m=\u001b[39m\u001b[38;5;28;01mTrue\u001b[39;00m)\n\u001b[1;32m   3549\u001b[0m \u001b[38;5;28;01melse\u001b[39;00m:\n",
      "\u001b[0;31mKeyboardInterrupt\u001b[0m: "
     ]
    }
   ],
   "source": [
    "with open(path + \"/training_info.pkl\", 'wb') as file:\n",
    "    pickle.dump(t_info, file)"
   ]
  },
  {
   "cell_type": "markdown",
   "metadata": {},
   "source": [
    "### Reading already saved training data"
   ]
  },
  {
   "cell_type": "code",
   "execution_count": 9,
   "metadata": {},
   "outputs": [
    {
     "data": {
      "text/plain": [
       "(4000, 5)"
      ]
     },
     "execution_count": 9,
     "metadata": {},
     "output_type": "execute_result"
    }
   ],
   "source": [
    "winner_df = pd.read_excel(\"winner_result.xlsx\")\n",
    "winner_df.shape"
   ]
  },
  {
   "cell_type": "code",
   "execution_count": 4,
   "metadata": {},
   "outputs": [
    {
     "data": {
      "text/html": [
       "<div>\n",
       "<style scoped>\n",
       "    .dataframe tbody tr th:only-of-type {\n",
       "        vertical-align: middle;\n",
       "    }\n",
       "\n",
       "    .dataframe tbody tr th {\n",
       "        vertical-align: top;\n",
       "    }\n",
       "\n",
       "    .dataframe thead th {\n",
       "        text-align: right;\n",
       "    }\n",
       "</style>\n",
       "<table border=\"1\" class=\"dataframe\">\n",
       "  <thead>\n",
       "    <tr style=\"text-align: right;\">\n",
       "      <th></th>\n",
       "      <th>Epoch</th>\n",
       "      <th>Cost_Pharmacy1</th>\n",
       "      <th>Cost_Pharmacy2</th>\n",
       "      <th>Winner_Pharmacy</th>\n",
       "    </tr>\n",
       "  </thead>\n",
       "  <tbody>\n",
       "    <tr>\n",
       "      <th>0</th>\n",
       "      <td>1</td>\n",
       "      <td>251.0</td>\n",
       "      <td>236.0</td>\n",
       "      <td>Pharmacy 2</td>\n",
       "    </tr>\n",
       "    <tr>\n",
       "      <th>1</th>\n",
       "      <td>2</td>\n",
       "      <td>261.0</td>\n",
       "      <td>141.0</td>\n",
       "      <td>Pharmacy 2</td>\n",
       "    </tr>\n",
       "    <tr>\n",
       "      <th>2</th>\n",
       "      <td>3</td>\n",
       "      <td>243.0</td>\n",
       "      <td>165.0</td>\n",
       "      <td>Pharmacy 2</td>\n",
       "    </tr>\n",
       "    <tr>\n",
       "      <th>3</th>\n",
       "      <td>4</td>\n",
       "      <td>259.0</td>\n",
       "      <td>210.0</td>\n",
       "      <td>Pharmacy 2</td>\n",
       "    </tr>\n",
       "    <tr>\n",
       "      <th>4</th>\n",
       "      <td>5</td>\n",
       "      <td>207.0</td>\n",
       "      <td>177.0</td>\n",
       "      <td>Pharmacy 2</td>\n",
       "    </tr>\n",
       "    <tr>\n",
       "      <th>...</th>\n",
       "      <td>...</td>\n",
       "      <td>...</td>\n",
       "      <td>...</td>\n",
       "      <td>...</td>\n",
       "    </tr>\n",
       "    <tr>\n",
       "      <th>299995</th>\n",
       "      <td>299996</td>\n",
       "      <td>228.0</td>\n",
       "      <td>113.0</td>\n",
       "      <td>Pharmacy 2</td>\n",
       "    </tr>\n",
       "    <tr>\n",
       "      <th>299996</th>\n",
       "      <td>299997</td>\n",
       "      <td>279.0</td>\n",
       "      <td>243.0</td>\n",
       "      <td>Pharmacy 2</td>\n",
       "    </tr>\n",
       "    <tr>\n",
       "      <th>299997</th>\n",
       "      <td>299998</td>\n",
       "      <td>205.0</td>\n",
       "      <td>122.0</td>\n",
       "      <td>Pharmacy 2</td>\n",
       "    </tr>\n",
       "    <tr>\n",
       "      <th>299998</th>\n",
       "      <td>299999</td>\n",
       "      <td>189.0</td>\n",
       "      <td>414.0</td>\n",
       "      <td>Pharmacy 1</td>\n",
       "    </tr>\n",
       "    <tr>\n",
       "      <th>299999</th>\n",
       "      <td>300000</td>\n",
       "      <td>216.0</td>\n",
       "      <td>331.0</td>\n",
       "      <td>Pharmacy 1</td>\n",
       "    </tr>\n",
       "  </tbody>\n",
       "</table>\n",
       "<p>300000 rows × 4 columns</p>\n",
       "</div>"
      ],
      "text/plain": [
       "         Epoch  Cost_Pharmacy1  Cost_Pharmacy2 Winner_Pharmacy\n",
       "0            1           251.0           236.0      Pharmacy 2\n",
       "1            2           261.0           141.0      Pharmacy 2\n",
       "2            3           243.0           165.0      Pharmacy 2\n",
       "3            4           259.0           210.0      Pharmacy 2\n",
       "4            5           207.0           177.0      Pharmacy 2\n",
       "...        ...             ...             ...             ...\n",
       "299995  299996           228.0           113.0      Pharmacy 2\n",
       "299996  299997           279.0           243.0      Pharmacy 2\n",
       "299997  299998           205.0           122.0      Pharmacy 2\n",
       "299998  299999           189.0           414.0      Pharmacy 1\n",
       "299999  300000           216.0           331.0      Pharmacy 1\n",
       "\n",
       "[300000 rows x 4 columns]"
      ]
     },
     "execution_count": 4,
     "metadata": {},
     "output_type": "execute_result"
    }
   ],
   "source": [
    "winner_df"
   ]
  },
  {
   "cell_type": "code",
   "execution_count": 5,
   "metadata": {},
   "outputs": [],
   "source": [
    "def negate_nashq_matrices(Q1, Q2):\n",
    "      BigM = 10**10\n",
    "      Q1_negated = Q1.copy()\n",
    "      Q1_negated[Q1_negated == 0] = BigM\n",
    "      Q2_negated = Q2.copy()\n",
    "      Q2_negated[Q2_negated == 0] = BigM\n",
    "\n",
    "      return Q1_negated, Q2_negated"
   ]
  },
  {
   "cell_type": "code",
   "execution_count": 6,
   "metadata": {},
   "outputs": [
    {
     "data": {
      "text/plain": [
       "[(array([0., 0., 0., 0., 1., 0.]), array([0., 0., 0., 1., 0., 0.]))]"
      ]
     },
     "execution_count": 6,
     "metadata": {},
     "output_type": "execute_result"
    }
   ],
   "source": [
    "day = 0\n",
    "ind = state_index.loc[state_index[\"state\"].apply(lambda x: np.array_equal(x, env.initial_state))].index[0]\n",
    "neg_Q1, neg_Q2 = negate_nashq_matrices(Q1, Q2)\n",
    "game = nash.Game(-neg_Q1[ind, day, :, :], -neg_Q2[ind, day, :, :])\n",
    "equilibria = list(game.support_enumeration())\n",
    "equilibria"
   ]
  },
  {
   "cell_type": "code",
   "execution_count": 7,
   "metadata": {},
   "outputs": [
    {
     "data": {
      "text/plain": [
       "[[0.0, 0.0, 0.0, 199.81954093008892, 0.0, 0.0],\n",
       " [0.0, 0.0, 0.0, 201.69050867186056, 0.0, 0.0],\n",
       " [0.0, 0.0, 0.0, 207.85459150064278, 0.0, 0.0],\n",
       " [0.0, 0.0, 0.0, 205.05830811378974, 0.0, 0.0],\n",
       " [0.0, 0.0, 0.0, 189.3649978176393, 0.0, 0.0],\n",
       " [0.0, 0.0, 0.0, 194.08962037572775, 0.0, 0.0]]"
      ]
     },
     "execution_count": 7,
     "metadata": {},
     "output_type": "execute_result"
    }
   ],
   "source": [
    "Q1[ind, day, :, :].tolist()"
   ]
  },
  {
   "cell_type": "code",
   "execution_count": 8,
   "metadata": {},
   "outputs": [
    {
     "name": "stdout",
     "output_type": "stream",
     "text": [
      "-515.4843742968936\n"
     ]
    }
   ],
   "source": [
    "for eq in equilibria:\n",
    "    payoff =  game[eq][0] + game[eq][1]\n",
    "    print(payoff)"
   ]
  },
  {
   "cell_type": "code",
   "execution_count": 9,
   "metadata": {},
   "outputs": [
    {
     "data": {
      "text/plain": [
       "[[0.0, 0.0, 0.0, 267.5131491744837, 0.0, 0.0],\n",
       " [0.0, 0.0, 0.0, 277.5081482901465, 0.0, 0.0],\n",
       " [0.0, 0.0, 0.0, 281.3738110627283, 0.0, 0.0],\n",
       " [0.0, 0.0, 0.0, 288.792812206742, 0.0, 0.0],\n",
       " [0.0, 0.0, 0.0, 326.1193764792543, 0.0, 0.0],\n",
       " [0.0, 0.0, 0.0, 351.8451196033878, 0.0, 0.0]]"
      ]
     },
     "execution_count": 9,
     "metadata": {},
     "output_type": "execute_result"
    }
   ],
   "source": [
    "Q2[ind,day, : , :].tolist()"
   ]
  },
  {
   "cell_type": "code",
   "execution_count": 10,
   "metadata": {},
   "outputs": [
    {
     "name": "stdout",
     "output_type": "stream",
     "text": [
      "Q1 equilibrium values to pharmacy2:\n",
      "[199.81954093008892, 201.69050867186056, 207.85459150064278, 205.05830811378974, 189.3649978176393, 194.08962037572775]\n"
     ]
    }
   ],
   "source": [
    "print(\"Q1 equilibrium values to pharmacy2:\")\n",
    "print(Q1[ind, day, :, 3].tolist())"
   ]
  },
  {
   "cell_type": "code",
   "execution_count": 11,
   "metadata": {},
   "outputs": [
    {
     "name": "stdout",
     "output_type": "stream",
     "text": [
      "Q2 equilibrium values to pharmacy1:\n",
      "[0.0, 0.0, 0.0, 267.5131491744837, 0.0, 0.0]\n",
      "[0.0, 0.0, 0.0, 277.5081482901465, 0.0, 0.0]\n",
      "[0.0, 0.0, 0.0, 281.3738110627283, 0.0, 0.0]\n",
      "[0.0, 0.0, 0.0, 288.792812206742, 0.0, 0.0]\n",
      "[0.0, 0.0, 0.0, 326.1193764792543, 0.0, 0.0]\n"
     ]
    }
   ],
   "source": [
    "print(\"Q2 equilibrium values to pharmacy1:\")\n",
    "for x in range(max_x):\n",
    "    print(Q2[ind, day, x, :].tolist())"
   ]
  },
  {
   "cell_type": "code",
   "execution_count": 12,
   "metadata": {},
   "outputs": [
    {
     "ename": "NameError",
     "evalue": "name 'winner_df' is not defined",
     "output_type": "error",
     "traceback": [
      "\u001b[1;31m---------------------------------------------------------------------------\u001b[0m",
      "\u001b[1;31mNameError\u001b[0m                                 Traceback (most recent call last)",
      "Cell \u001b[1;32mIn[12], line 12\u001b[0m\n\u001b[0;32m      9\u001b[0m     \u001b[38;5;28mprint\u001b[39m(\u001b[38;5;124m\"\u001b[39m\u001b[38;5;124m-# of Ties: \u001b[39m\u001b[38;5;124m\"\u001b[39m, \u001b[38;5;28mstr\u001b[39m(winner_df[winner_df\u001b[38;5;241m.\u001b[39mWinner_Pharmacy\u001b[38;5;241m==\u001b[39m\u001b[38;5;124m'\u001b[39m\u001b[38;5;124mTie\u001b[39m\u001b[38;5;124m'\u001b[39m]\u001b[38;5;241m.\u001b[39mshape[\u001b[38;5;241m0\u001b[39m]) \u001b[38;5;241m+\u001b[39m \u001b[38;5;124m\"\u001b[39m\u001b[38;5;124m (\u001b[39m\u001b[38;5;124m\"\u001b[39m \u001b[38;5;241m+\u001b[39m \n\u001b[0;32m     10\u001b[0m           \u001b[38;5;28mstr\u001b[39m((winner_df[winner_df\u001b[38;5;241m.\u001b[39mWinner_Pharmacy\u001b[38;5;241m==\u001b[39m\u001b[38;5;124m'\u001b[39m\u001b[38;5;124mTie\u001b[39m\u001b[38;5;124m'\u001b[39m]\u001b[38;5;241m.\u001b[39mshape[\u001b[38;5;241m0\u001b[39m] \u001b[38;5;241m/\u001b[39m winner_df\u001b[38;5;241m.\u001b[39mshape[\u001b[38;5;241m0\u001b[39m])\u001b[38;5;241m*\u001b[39m\u001b[38;5;241m100\u001b[39m) \u001b[38;5;241m+\u001b[39m \u001b[38;5;124m\"\u001b[39m\u001b[38;5;124m%\u001b[39m\u001b[38;5;124m)\u001b[39m\u001b[38;5;124m\"\u001b[39m)\n\u001b[0;32m     11\u001b[0m     winner_df\u001b[38;5;241m.\u001b[39mtail(\u001b[38;5;241m10\u001b[39m)\n\u001b[1;32m---> 12\u001b[0m get_winning_summary(\u001b[43mwinner_df\u001b[49m)\n",
      "\u001b[1;31mNameError\u001b[0m: name 'winner_df' is not defined"
     ]
    }
   ],
   "source": [
    "def get_winning_summary(winner_df):\n",
    "    \n",
    "    print(\"Results:\\n\")\n",
    "    print(\"Total number of simulation:\",winner_df.shape[0])\n",
    "    print(\"-# of wins of Pharmacy 1: \", str(winner_df[winner_df.Winner_Pharmacy=='Pharmacy 1'].shape[0]) + \" (\" + \n",
    "          str((winner_df[winner_df.Winner_Pharmacy=='Pharmacy 1'].shape[0] / winner_df.shape[0])*100) + \"%)\")\n",
    "    print(\"-# of wins of Pharmacy 2: \", str(winner_df[winner_df.Winner_Pharmacy=='Pharmacy 2'].shape[0]) + \" (\" + \n",
    "          str((winner_df[winner_df.Winner_Pharmacy=='Pharmacy 2'].shape[0] / winner_df.shape[0])*100) + \"%)\")\n",
    "    print(\"-# of Ties: \", str(winner_df[winner_df.Winner_Pharmacy=='Tie'].shape[0]) + \" (\" + \n",
    "          str((winner_df[winner_df.Winner_Pharmacy=='Tie'].shape[0] / winner_df.shape[0])*100) + \"%)\")\n",
    "    winner_df.tail(10)\n",
    "get_winning_summary(winner_df)"
   ]
  },
  {
   "cell_type": "code",
   "execution_count": 17,
   "metadata": {},
   "outputs": [
    {
     "data": {
      "image/png": "[encoded data removed]",
      "text/plain": [
       "<Figure size 640x480 with 1 Axes>"
      ]
     },
     "metadata": {},
     "output_type": "display_data"
    }
   ],
   "source": [
    "import pandas as pd\n",
    "import matplotlib.pyplot as plt\n",
    "\n",
    "# Assuming winner_df contains 4000 rows\n",
    "\n",
    "# Split the DataFrame into chunks of 200 rows\n",
    "chunk_size = 1000\n",
    "chunks = [winner_df.iloc[i:i + chunk_size] for i in range(0, len(winner_df), chunk_size)]\n",
    "\n",
    "# Initialize lists to store the number of wins in each chunk\n",
    "pharmacy1_wins = []\n",
    "pharmacy2_wins = []\n",
    "\n",
    "# Iterate through the chunks and count wins\n",
    "for chunk in chunks:\n",
    "    pharmacy1_wins.append((chunk['Winner_Pharmacy'] == 'Pharmacy 1').sum())\n",
    "    pharmacy2_wins.append((chunk['Winner_Pharmacy'] == 'Pharmacy 2').sum())\n",
    "\n",
    "# Create a list of chunk numbers\n",
    "chunk_numbers = list(range(1, len(chunks) + 1))\n",
    "\n",
    "# Plot the wins for Pharmacy 1 and Pharmacy 2\n",
    "plt.plot(chunk_numbers, pharmacy1_wins, label='Pharmacy 1 Wins', marker='o')\n",
    "plt.plot(chunk_numbers, pharmacy2_wins, label='Pharmacy 2 Wins', marker='o')\n",
    "\n",
    "# Customize the plot\n",
    "plt.xlabel('Chunk Number (1000 Games per Chunk)')\n",
    "plt.ylabel('Number of Wins')\n",
    "plt.title('Number of Wins per 1000 Games')\n",
    "plt.legend()\n",
    "plt.grid(True)\n",
    "plt.show()\n"
   ]
  },
  {
   "cell_type": "code",
   "execution_count": 18,
   "metadata": {},
   "outputs": [],
   "source": [
    "from gym import Env, spaces\n",
    "import utils\n",
    "def get_best_policy(Q1_inv, Q2_inv):\n",
    "    current_state = env.initial_state\n",
    "    pharmacy1_actions = [x for x in range(0, env.X + 1)]\n",
    "    pharmacy2_actions = [x for x in range(0, env.X + 1)]\n",
    "    policy1 = []\n",
    "    policy2 = []\n",
    "    demand_arr = []\n",
    "    cost1_arr = []\n",
    "    cost2_arr = []\n",
    "    t = 0\n",
    "    x1 = 0\n",
    "    x2 = 0\n",
    "    max_t = 10\n",
    "    total_cost_1 = 0\n",
    "    total_cost_2 = 0\n",
    "    while t != env.T:\n",
    "        print(current_state)\n",
    "        St1, St2 = current_state\n",
    "        s_ind = state_index.loc[state_index[\"state\"].apply(lambda x: np.array_equal(x, current_state))].index[0]\n",
    "        print(\"index:\",s_ind,\"- t:\",t)\n",
    "        q_state1 = Q1_inv[s_ind, t, :, :]\n",
    "        q_state2 = Q2_inv[s_ind, t, :, :]\n",
    "        game = nash.Game(q_state1,q_state2)\n",
    "        equilibriums = list(game.support_enumeration())\n",
    "        best_payoff = -np.Inf\n",
    "        for eq in equilibriums:\n",
    "                 if len(np.where(eq[0] == 1)[0]) != 0: #The equilibrium needs to be a strict nash equilibrium (no mixed-strategy)\n",
    "                     total_payoff = q_state1[np.where(eq[0]==1)[0][0]][np.where(eq[1]==1)[0][0]] + q_state2[np.where(eq[0]==1)[0][0]][np.where(eq[1]==1)[0][0]]\n",
    "                     if (total_payoff < 0) and (total_payoff >= best_payoff):\n",
    "                         best_payoff = total_payoff\n",
    "                         x1 = np.where(eq[0] == 1)[0][0]\n",
    "                         x2 = 3\n",
    "        if t != env.T:\n",
    "                policy1.append(x1)\n",
    "                policy2.append(x2)\n",
    "        elif t == env.T:\n",
    "                policy1.append(-1)\n",
    "                policy2.append(-1)\n",
    "        else :  #the model did not converge\n",
    "                policy0 = 'model failed to converge to a policy'\n",
    "                policy1 = 'model failed to converge to a policy'\n",
    "                break     \n",
    "        Dt = env.demand()\n",
    "        demand_arr.append(Dt)\n",
    "        fulfillment_metric = utils.calculate_fulfillment_metric(current_state)\n",
    "        reward1, reward2 = env.reward(fulfillment_metric, St1, St2,\n",
    "                                   x1, x2, Dt)\n",
    "        cost1_arr.append(reward1)\n",
    "        total_cost_1 += reward1\n",
    "        total_cost_2 += reward2\n",
    "        cost2_arr.append(reward2)\n",
    "        St1_1, St2_1 = env.transition(fulfillment_metric, St1, St2, x1, x2, Dt)\n",
    "        current_state = (St1_1, St2_1)\n",
    "        t += 1\n",
    "        print(f'End of period \"{t}\"')\n",
    "    \n",
    "    winner = \"Pharmacy 1\" if total_cost_1 < total_cost_2 else \"Pharmacy 2\"\n",
    "    print(\"Total cost of Pharmacy 1: \", total_cost_1)\n",
    "    print(\"Total cost of Pharmacy 2: \", total_cost_2)\n",
    "    print(\"Costs of Pharmacy 1: \", cost1_arr)\n",
    "    print(\"Costs of Pharmacy 2: \", cost2_arr)\n",
    "    \n",
    "    return policy1, policy2, demand_arr\n"
   ]
  },
  {
   "cell_type": "code",
   "execution_count": 4,
   "metadata": {},
   "outputs": [],
   "source": [
    "Q1 = pd.read_pickle(\"FixedTrainedAgents_07EpsilonGreedy_310725M2T6/Q1_new_max_300K_X5.pkl\")\n",
    "Q2 = pd.read_pickle(\"FixedTrainedAgents_07EpsilonGreedy_310725M2T6/Q2_new_max_300K_X5.pkl\")"
   ]
  },
  {
   "cell_type": "code",
   "execution_count": 19,
   "metadata": {},
   "outputs": [
    {
     "name": "stdout",
     "output_type": "stream",
     "text": [
      "([0, 0], [0, 0])\n",
      "index: 0 - t: 0\n",
      "End of period \"1\"\n",
      "(array([0., 0.]), array([0., 0.]))\n",
      "index: 0 - t: 1\n",
      "End of period \"2\"\n",
      "(array([0., 0.]), array([0., 0.]))\n",
      "index: 0 - t: 2\n",
      "End of period \"3\"\n",
      "(array([0., 0.]), array([0., 0.]))\n",
      "index: 0 - t: 3\n",
      "End of period \"4\"\n",
      "(array([0., 0.]), array([0., 0.]))\n",
      "index: 0 - t: 4\n",
      "End of period \"5\"\n",
      "(array([0., 0.]), array([0., 0.]))\n",
      "index: 0 - t: 5\n",
      "End of period \"6\"\n",
      "Total cost of Pharmacy 1:  100.0\n",
      "Total cost of Pharmacy 2:  156.0\n",
      "Costs of Pharmacy 1:  [51, 6.0, 12.0, 10.0, 13.0, 8.0]\n",
      "Costs of Pharmacy 2:  [15, 45.0, 9.0, 21.0, 33.0, 33.0]\n",
      "Demand information : [4, 3, 0, 1, 2, 2] \n",
      "Optimum replenishment policies for pharmacy1: [1, 4, 4, 4, 1, 4] \n",
      "Optimum replenishment policies for pharmacy2: [3, 3, 3, 3, 3, 3]\n"
     ]
    }
   ],
   "source": [
    "Q1_negated, Q2_negated = negate_nashq_matrices(Q1, Q2)\n",
    "best_policy1, best_policy2, demand_arr = get_best_policy(-Q1_negated, -Q2_negated)\n",
    "print(\"Demand information :\", demand_arr, \"\\n\"\n",
    "      \"Optimum replenishment policies for pharmacy1:\", best_policy1, \"\\n\"\n",
    "      \"Optimum replenishment policies for pharmacy2:\", best_policy2)"
   ]
  }
 ],
 "metadata": {
  "kernelspec": {
   "display_name": "Python 3",
   "language": "python",
   "name": "python3"
  },
  "language_info": {
   "codemirror_mode": {
    "name": "ipython",
    "version": 3
   },
   "file_extension": ".py",
   "mimetype": "text/x-python",
   "name": "python",
   "nbconvert_exporter": "python",
   "pygments_lexer": "ipython3",
   "version": "3.9.13"
  }
 },
 "nbformat": 4,
 "nbformat_minor": 4
}
